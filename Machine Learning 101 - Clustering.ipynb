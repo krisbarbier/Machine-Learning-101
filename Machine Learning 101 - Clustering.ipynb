{
 "cells": [
  {
   "cell_type": "markdown",
   "id": "3cc12b10",
   "metadata": {},
   "source": [
    "# Machine Learning 101 - Clustering\n",
    "\n",
    "## How to Use Clustering Algorithms to Group Data\n",
    "\n",
    "Author: Kris Barbier"
   ]
  },
  {
   "cell_type": "markdown",
   "id": "943c33d8",
   "metadata": {},
   "source": [
    "### Overview:\n",
    "\n",
    "This notebook will outline the steps to use clustering algorithms with datasets to group data points together."
   ]
  },
  {
   "cell_type": "markdown",
   "id": "46634abf",
   "metadata": {},
   "source": [
    "### Clustering Overview:\n",
    "\n",
    "- Clustering is a type of unsupervised machine learning, in which the algorithm works with data to identify patterns and trends and group the data together.\n",
    "- In this notebook, we will use the following steps to complete a clustering analysis:\n",
    "    - Import libraries and read in data set.\n",
    "    - Briefly explore data set.\n",
    "    - Use two clustering algorithms to group data: K-Means and DBSCAN.\n",
    "    - Interpret results by looking at the make-up of the identified clusters.\n"
   ]
  },
  {
   "cell_type": "code",
   "execution_count": null,
   "id": "19cbbfb7",
   "metadata": {},
   "outputs": [],
   "source": []
  }
 ],
 "metadata": {
  "kernelspec": {
   "display_name": "Python (dojo-env)",
   "language": "python",
   "name": "dojo-env"
  },
  "language_info": {
   "codemirror_mode": {
    "name": "ipython",
    "version": 3
   },
   "file_extension": ".py",
   "mimetype": "text/x-python",
   "name": "python",
   "nbconvert_exporter": "python",
   "pygments_lexer": "ipython3",
   "version": "3.9.15"
  },
  "toc": {
   "base_numbering": 1,
   "nav_menu": {},
   "number_sections": false,
   "sideBar": true,
   "skip_h1_title": false,
   "title_cell": "Table of Contents",
   "title_sidebar": "Contents",
   "toc_cell": false,
   "toc_position": {},
   "toc_section_display": true,
   "toc_window_display": false
  }
 },
 "nbformat": 4,
 "nbformat_minor": 5
}
