{
 "cells": [
  {
   "cell_type": "markdown",
   "id": "b235b188",
   "metadata": {},
   "source": [
    "# Machine Learning 101 - Regression\n",
    "\n",
    "## How to Build and Interpret Regression Models\n",
    "\n",
    "Author: Kris Barbier"
   ]
  },
  {
   "cell_type": "markdown",
   "id": "91e3463f",
   "metadata": {},
   "source": [
    "### Overview:\n",
    "\n",
    "This notebook will demonstrate how to build and interpret 2 types of regression models: Linear Regression and Random Forests."
   ]
  },
  {
   "cell_type": "markdown",
   "id": "f1072fa4",
   "metadata": {},
   "source": [
    "### Regression Models Overview:\n",
    "\n",
    "- In supervised machine learning, there are two main tasks that can be completed. In this notebook, we will build and interpret regression models, which are used to predict continuous numerical values. We will use the following steps to complete our models:\n",
    "    - Import needed libraries and read in data.\n",
    "    - Quickly preprocess data for modeling (for an in depth look at preprocessing, check out the preprocessing notebook).\n",
    "    - Use model pipelines to efficiently build 2 different types of regression models.\n",
    "    - Evaluate models using different metrics to test each model's accuracy of predictions."
   ]
  },
  {
   "cell_type": "markdown",
   "id": "b893421b",
   "metadata": {},
   "source": [
    "## Regression Models in Code"
   ]
  },
  {
   "cell_type": "markdown",
   "id": "82f1d280",
   "metadata": {},
   "source": [
    "### Import Libraries and Read in Data"
   ]
  },
  {
   "cell_type": "code",
   "execution_count": 1,
   "id": "40a847de",
   "metadata": {},
   "outputs": [],
   "source": [
    "#Common imports for data science\n",
    "import pandas as pd\n",
    "import numpy as np\n",
    "import matplotlib.pyplot as plt  #For visualizations\n",
    "import seaborn as sns #For visualizations\n",
    "\n",
    "#Imports for machine learning \n",
    "from sklearn.model_selection import train_test_split  #For validation split\n",
    "\n",
    "#Imports for feature transformations\n",
    "from sklearn.preprocessing import StandardScaler, OneHotEncoder\n",
    "from sklearn.impute import SimpleImputer\n",
    "\n",
    "#Imports for building preprocessing object\n",
    "from sklearn.compose import ColumnTransformer\n",
    "from sklearn.pipeline import make_pipeline\n",
    "\n",
    "#Imports for regression models\n",
    "from sklearn.linear_model import LinearRegression\n",
    "from sklearn.ensemble import RandomForestRegressor\n",
    "\n",
    "#Imports for model metrics\n",
    "from sklearn.metrics import mean_absolute_error\n",
    "from sklearn.metrics import mean_squared_error\n",
    "from sklearn.metrics import r2_score\n",
    "\n",
    "#Set sklearn output to pandas\n",
    "from sklearn import set_config\n",
    "set_config(transform_output = 'pandas')\n",
    "\n",
    "#Mute warnings\n",
    "import warnings\n",
    "warnings.filterwarnings('ignore')"
   ]
  },
  {
   "cell_type": "code",
   "execution_count": 2,
   "id": "7fb9a13a",
   "metadata": {},
   "outputs": [
    {
     "data": {
      "text/html": [
       "<div>\n",
       "<style scoped>\n",
       "    .dataframe tbody tr th:only-of-type {\n",
       "        vertical-align: middle;\n",
       "    }\n",
       "\n",
       "    .dataframe tbody tr th {\n",
       "        vertical-align: top;\n",
       "    }\n",
       "\n",
       "    .dataframe thead th {\n",
       "        text-align: right;\n",
       "    }\n",
       "</style>\n",
       "<table border=\"1\" class=\"dataframe\">\n",
       "  <thead>\n",
       "    <tr style=\"text-align: right;\">\n",
       "      <th></th>\n",
       "      <th>age</th>\n",
       "      <th>sex</th>\n",
       "      <th>bmi</th>\n",
       "      <th>children</th>\n",
       "      <th>smoker</th>\n",
       "      <th>region</th>\n",
       "      <th>charges</th>\n",
       "    </tr>\n",
       "  </thead>\n",
       "  <tbody>\n",
       "    <tr>\n",
       "      <th>0</th>\n",
       "      <td>19</td>\n",
       "      <td>female</td>\n",
       "      <td>27.900</td>\n",
       "      <td>0</td>\n",
       "      <td>1</td>\n",
       "      <td>southwest</td>\n",
       "      <td>16885.0</td>\n",
       "    </tr>\n",
       "    <tr>\n",
       "      <th>1</th>\n",
       "      <td>18</td>\n",
       "      <td>male</td>\n",
       "      <td>33.770</td>\n",
       "      <td>1</td>\n",
       "      <td>0</td>\n",
       "      <td>southeast</td>\n",
       "      <td>1726.0</td>\n",
       "    </tr>\n",
       "    <tr>\n",
       "      <th>2</th>\n",
       "      <td>28</td>\n",
       "      <td>male</td>\n",
       "      <td>33.000</td>\n",
       "      <td>3</td>\n",
       "      <td>0</td>\n",
       "      <td>southeast</td>\n",
       "      <td>4449.0</td>\n",
       "    </tr>\n",
       "    <tr>\n",
       "      <th>3</th>\n",
       "      <td>33</td>\n",
       "      <td>male</td>\n",
       "      <td>22.705</td>\n",
       "      <td>0</td>\n",
       "      <td>0</td>\n",
       "      <td>northwest</td>\n",
       "      <td>21984.0</td>\n",
       "    </tr>\n",
       "    <tr>\n",
       "      <th>4</th>\n",
       "      <td>32</td>\n",
       "      <td>male</td>\n",
       "      <td>28.880</td>\n",
       "      <td>0</td>\n",
       "      <td>0</td>\n",
       "      <td>northwest</td>\n",
       "      <td>3867.0</td>\n",
       "    </tr>\n",
       "  </tbody>\n",
       "</table>\n",
       "</div>"
      ],
      "text/plain": [
       "   age     sex     bmi  children  smoker     region  charges\n",
       "0   19  female  27.900         0       1  southwest  16885.0\n",
       "1   18    male  33.770         1       0  southeast   1726.0\n",
       "2   28    male  33.000         3       0  southeast   4449.0\n",
       "3   33    male  22.705         0       0  northwest  21984.0\n",
       "4   32    male  28.880         0       0  northwest   3867.0"
      ]
     },
     "execution_count": 2,
     "metadata": {},
     "output_type": "execute_result"
    }
   ],
   "source": [
    "#Read in sample dataset from repo folder\n",
    "file_path = \"Data/insurance_mod.csv\"\n",
    "df = pd.read_csv(file_path)\n",
    "#Preview data\n",
    "df.head()"
   ]
  },
  {
   "cell_type": "markdown",
   "id": "4f3a24c0",
   "metadata": {},
   "source": [
    "### Preprocess Data\n",
    "\n",
    "- In this step, we will go through the process of preprocessing data for this task. In this notebook, the steps will be condensed to save space. For an in-depth look at preprocessing, see the separate preprocessing notebook from this repo."
   ]
  },
  {
   "cell_type": "code",
   "execution_count": 3,
   "id": "f487e027",
   "metadata": {},
   "outputs": [],
   "source": [
    "#Define X and y variables\n",
    "y = df['charges']\n",
    "X = df.drop(columns = 'charges')"
   ]
  },
  {
   "cell_type": "code",
   "execution_count": 4,
   "id": "57688c63",
   "metadata": {},
   "outputs": [
    {
     "data": {
      "text/html": [
       "<div>\n",
       "<style scoped>\n",
       "    .dataframe tbody tr th:only-of-type {\n",
       "        vertical-align: middle;\n",
       "    }\n",
       "\n",
       "    .dataframe tbody tr th {\n",
       "        vertical-align: top;\n",
       "    }\n",
       "\n",
       "    .dataframe thead th {\n",
       "        text-align: right;\n",
       "    }\n",
       "</style>\n",
       "<table border=\"1\" class=\"dataframe\">\n",
       "  <thead>\n",
       "    <tr style=\"text-align: right;\">\n",
       "      <th></th>\n",
       "      <th>age</th>\n",
       "      <th>sex</th>\n",
       "      <th>bmi</th>\n",
       "      <th>children</th>\n",
       "      <th>smoker</th>\n",
       "      <th>region</th>\n",
       "    </tr>\n",
       "  </thead>\n",
       "  <tbody>\n",
       "    <tr>\n",
       "      <th>693</th>\n",
       "      <td>24</td>\n",
       "      <td>male</td>\n",
       "      <td>23.655</td>\n",
       "      <td>0</td>\n",
       "      <td>0</td>\n",
       "      <td>northwest</td>\n",
       "    </tr>\n",
       "    <tr>\n",
       "      <th>1297</th>\n",
       "      <td>28</td>\n",
       "      <td>female</td>\n",
       "      <td>26.510</td>\n",
       "      <td>2</td>\n",
       "      <td>0</td>\n",
       "      <td>southeast</td>\n",
       "    </tr>\n",
       "    <tr>\n",
       "      <th>634</th>\n",
       "      <td>51</td>\n",
       "      <td>male</td>\n",
       "      <td>39.700</td>\n",
       "      <td>1</td>\n",
       "      <td>0</td>\n",
       "      <td>southwest</td>\n",
       "    </tr>\n",
       "    <tr>\n",
       "      <th>1022</th>\n",
       "      <td>47</td>\n",
       "      <td>male</td>\n",
       "      <td>36.080</td>\n",
       "      <td>1</td>\n",
       "      <td>1</td>\n",
       "      <td>southeast</td>\n",
       "    </tr>\n",
       "    <tr>\n",
       "      <th>178</th>\n",
       "      <td>46</td>\n",
       "      <td>female</td>\n",
       "      <td>28.900</td>\n",
       "      <td>2</td>\n",
       "      <td>0</td>\n",
       "      <td>southwest</td>\n",
       "    </tr>\n",
       "  </tbody>\n",
       "</table>\n",
       "</div>"
      ],
      "text/plain": [
       "      age     sex     bmi  children  smoker     region\n",
       "693    24    male  23.655         0       0  northwest\n",
       "1297   28  female  26.510         2       0  southeast\n",
       "634    51    male  39.700         1       0  southwest\n",
       "1022   47    male  36.080         1       1  southeast\n",
       "178    46  female  28.900         2       0  southwest"
      ]
     },
     "execution_count": 4,
     "metadata": {},
     "output_type": "execute_result"
    }
   ],
   "source": [
    "#Perform validation split\n",
    "#Setting a random state will make this reproducible in the future\n",
    "X_train, X_test, y_train, y_test = train_test_split(X, y, random_state=42)\n",
    "\n",
    "#Verify the split is correct\n",
    "X_train.head()  #Note the absence of the charges column from the X_train data"
   ]
  },
  {
   "cell_type": "code",
   "execution_count": 5,
   "id": "7d80a559",
   "metadata": {},
   "outputs": [],
   "source": [
    "##Create numeric pipeline\n",
    "#Define numeric columns\n",
    "num_cols = X_train.select_dtypes('number').columns\n",
    "\n",
    "#Instantiate transformers\n",
    "impute_mean = SimpleImputer(strategy='mean')\n",
    "scaler = StandardScaler()\n",
    "\n",
    "#Set numeric pipeline\n",
    "num_pipe = make_pipeline(impute_mean, scaler)\n",
    "\n",
    "#Create tuple for column transformer\n",
    "num_tuple = (\"Numeric\", num_pipe, num_cols)"
   ]
  },
  {
   "cell_type": "code",
   "execution_count": 6,
   "id": "34a78204",
   "metadata": {},
   "outputs": [],
   "source": [
    "##Create categorical pipeline\n",
    "#Define categorical columns\n",
    "cat_cols = X_train.select_dtypes('object').columns\n",
    "\n",
    "#Instantiate transformers\n",
    "impute_missing = SimpleImputer(strategy='constant', fill_value='Missing')\n",
    "cat_encode = OneHotEncoder(sparse_output=False, handle_unknown='ignore')\n",
    "\n",
    "#Set categorical pipeline\n",
    "cat_pipe = make_pipeline(impute_missing, cat_encode)\n",
    "\n",
    "#Create tuple for column transformer\n",
    "cat_tuple = (\"Categorical\", cat_pipe, cat_cols)"
   ]
  },
  {
   "cell_type": "code",
   "execution_count": 7,
   "id": "73f79b53",
   "metadata": {},
   "outputs": [],
   "source": [
    "#Finalize preprocessing object\n",
    "preprocessor = ColumnTransformer([num_tuple, cat_tuple], verbose_feature_names_out=False)"
   ]
  },
  {
   "cell_type": "code",
   "execution_count": 8,
   "id": "6595597f",
   "metadata": {},
   "outputs": [
    {
     "data": {
      "text/html": [
       "<style>#sk-container-id-1 {color: black;background-color: white;}#sk-container-id-1 pre{padding: 0;}#sk-container-id-1 div.sk-toggleable {background-color: white;}#sk-container-id-1 label.sk-toggleable__label {cursor: pointer;display: block;width: 100%;margin-bottom: 0;padding: 0.3em;box-sizing: border-box;text-align: center;}#sk-container-id-1 label.sk-toggleable__label-arrow:before {content: \"▸\";float: left;margin-right: 0.25em;color: #696969;}#sk-container-id-1 label.sk-toggleable__label-arrow:hover:before {color: black;}#sk-container-id-1 div.sk-estimator:hover label.sk-toggleable__label-arrow:before {color: black;}#sk-container-id-1 div.sk-toggleable__content {max-height: 0;max-width: 0;overflow: hidden;text-align: left;background-color: #f0f8ff;}#sk-container-id-1 div.sk-toggleable__content pre {margin: 0.2em;color: black;border-radius: 0.25em;background-color: #f0f8ff;}#sk-container-id-1 input.sk-toggleable__control:checked~div.sk-toggleable__content {max-height: 200px;max-width: 100%;overflow: auto;}#sk-container-id-1 input.sk-toggleable__control:checked~label.sk-toggleable__label-arrow:before {content: \"▾\";}#sk-container-id-1 div.sk-estimator input.sk-toggleable__control:checked~label.sk-toggleable__label {background-color: #d4ebff;}#sk-container-id-1 div.sk-label input.sk-toggleable__control:checked~label.sk-toggleable__label {background-color: #d4ebff;}#sk-container-id-1 input.sk-hidden--visually {border: 0;clip: rect(1px 1px 1px 1px);clip: rect(1px, 1px, 1px, 1px);height: 1px;margin: -1px;overflow: hidden;padding: 0;position: absolute;width: 1px;}#sk-container-id-1 div.sk-estimator {font-family: monospace;background-color: #f0f8ff;border: 1px dotted black;border-radius: 0.25em;box-sizing: border-box;margin-bottom: 0.5em;}#sk-container-id-1 div.sk-estimator:hover {background-color: #d4ebff;}#sk-container-id-1 div.sk-parallel-item::after {content: \"\";width: 100%;border-bottom: 1px solid gray;flex-grow: 1;}#sk-container-id-1 div.sk-label:hover label.sk-toggleable__label {background-color: #d4ebff;}#sk-container-id-1 div.sk-serial::before {content: \"\";position: absolute;border-left: 1px solid gray;box-sizing: border-box;top: 0;bottom: 0;left: 50%;z-index: 0;}#sk-container-id-1 div.sk-serial {display: flex;flex-direction: column;align-items: center;background-color: white;padding-right: 0.2em;padding-left: 0.2em;position: relative;}#sk-container-id-1 div.sk-item {position: relative;z-index: 1;}#sk-container-id-1 div.sk-parallel {display: flex;align-items: stretch;justify-content: center;background-color: white;position: relative;}#sk-container-id-1 div.sk-item::before, #sk-container-id-1 div.sk-parallel-item::before {content: \"\";position: absolute;border-left: 1px solid gray;box-sizing: border-box;top: 0;bottom: 0;left: 50%;z-index: -1;}#sk-container-id-1 div.sk-parallel-item {display: flex;flex-direction: column;z-index: 1;position: relative;background-color: white;}#sk-container-id-1 div.sk-parallel-item:first-child::after {align-self: flex-end;width: 50%;}#sk-container-id-1 div.sk-parallel-item:last-child::after {align-self: flex-start;width: 50%;}#sk-container-id-1 div.sk-parallel-item:only-child::after {width: 0;}#sk-container-id-1 div.sk-dashed-wrapped {border: 1px dashed gray;margin: 0 0.4em 0.5em 0.4em;box-sizing: border-box;padding-bottom: 0.4em;background-color: white;}#sk-container-id-1 div.sk-label label {font-family: monospace;font-weight: bold;display: inline-block;line-height: 1.2em;}#sk-container-id-1 div.sk-label-container {text-align: center;}#sk-container-id-1 div.sk-container {/* jupyter's `normalize.less` sets `[hidden] { display: none; }` but bootstrap.min.css set `[hidden] { display: none !important; }` so we also need the `!important` here to be able to override the default hidden behavior on the sphinx rendered scikit-learn.org. See: https://github.com/scikit-learn/scikit-learn/issues/21755 */display: inline-block !important;position: relative;}#sk-container-id-1 div.sk-text-repr-fallback {display: none;}</style><div id=\"sk-container-id-1\" class=\"sk-top-container\"><div class=\"sk-text-repr-fallback\"><pre>ColumnTransformer(transformers=[(&#x27;Numeric&#x27;,\n",
       "                                 Pipeline(steps=[(&#x27;simpleimputer&#x27;,\n",
       "                                                  SimpleImputer()),\n",
       "                                                 (&#x27;standardscaler&#x27;,\n",
       "                                                  StandardScaler())]),\n",
       "                                 Index([&#x27;age&#x27;, &#x27;bmi&#x27;, &#x27;children&#x27;, &#x27;smoker&#x27;], dtype=&#x27;object&#x27;)),\n",
       "                                (&#x27;Categorical&#x27;,\n",
       "                                 Pipeline(steps=[(&#x27;simpleimputer&#x27;,\n",
       "                                                  SimpleImputer(fill_value=&#x27;Missing&#x27;,\n",
       "                                                                strategy=&#x27;constant&#x27;)),\n",
       "                                                 (&#x27;onehotencoder&#x27;,\n",
       "                                                  OneHotEncoder(handle_unknown=&#x27;ignore&#x27;,\n",
       "                                                                sparse_output=False))]),\n",
       "                                 Index([&#x27;sex&#x27;, &#x27;region&#x27;], dtype=&#x27;object&#x27;))],\n",
       "                  verbose_feature_names_out=False)</pre><b>In a Jupyter environment, please rerun this cell to show the HTML representation or trust the notebook. <br />On GitHub, the HTML representation is unable to render, please try loading this page with nbviewer.org.</b></div><div class=\"sk-container\" hidden><div class=\"sk-item sk-dashed-wrapped\"><div class=\"sk-label-container\"><div class=\"sk-label sk-toggleable\"><input class=\"sk-toggleable__control sk-hidden--visually\" id=\"sk-estimator-id-1\" type=\"checkbox\" ><label for=\"sk-estimator-id-1\" class=\"sk-toggleable__label sk-toggleable__label-arrow\">ColumnTransformer</label><div class=\"sk-toggleable__content\"><pre>ColumnTransformer(transformers=[(&#x27;Numeric&#x27;,\n",
       "                                 Pipeline(steps=[(&#x27;simpleimputer&#x27;,\n",
       "                                                  SimpleImputer()),\n",
       "                                                 (&#x27;standardscaler&#x27;,\n",
       "                                                  StandardScaler())]),\n",
       "                                 Index([&#x27;age&#x27;, &#x27;bmi&#x27;, &#x27;children&#x27;, &#x27;smoker&#x27;], dtype=&#x27;object&#x27;)),\n",
       "                                (&#x27;Categorical&#x27;,\n",
       "                                 Pipeline(steps=[(&#x27;simpleimputer&#x27;,\n",
       "                                                  SimpleImputer(fill_value=&#x27;Missing&#x27;,\n",
       "                                                                strategy=&#x27;constant&#x27;)),\n",
       "                                                 (&#x27;onehotencoder&#x27;,\n",
       "                                                  OneHotEncoder(handle_unknown=&#x27;ignore&#x27;,\n",
       "                                                                sparse_output=False))]),\n",
       "                                 Index([&#x27;sex&#x27;, &#x27;region&#x27;], dtype=&#x27;object&#x27;))],\n",
       "                  verbose_feature_names_out=False)</pre></div></div></div><div class=\"sk-parallel\"><div class=\"sk-parallel-item\"><div class=\"sk-item\"><div class=\"sk-label-container\"><div class=\"sk-label sk-toggleable\"><input class=\"sk-toggleable__control sk-hidden--visually\" id=\"sk-estimator-id-2\" type=\"checkbox\" ><label for=\"sk-estimator-id-2\" class=\"sk-toggleable__label sk-toggleable__label-arrow\">Numeric</label><div class=\"sk-toggleable__content\"><pre>Index([&#x27;age&#x27;, &#x27;bmi&#x27;, &#x27;children&#x27;, &#x27;smoker&#x27;], dtype=&#x27;object&#x27;)</pre></div></div></div><div class=\"sk-serial\"><div class=\"sk-item\"><div class=\"sk-serial\"><div class=\"sk-item\"><div class=\"sk-estimator sk-toggleable\"><input class=\"sk-toggleable__control sk-hidden--visually\" id=\"sk-estimator-id-3\" type=\"checkbox\" ><label for=\"sk-estimator-id-3\" class=\"sk-toggleable__label sk-toggleable__label-arrow\">SimpleImputer</label><div class=\"sk-toggleable__content\"><pre>SimpleImputer()</pre></div></div></div><div class=\"sk-item\"><div class=\"sk-estimator sk-toggleable\"><input class=\"sk-toggleable__control sk-hidden--visually\" id=\"sk-estimator-id-4\" type=\"checkbox\" ><label for=\"sk-estimator-id-4\" class=\"sk-toggleable__label sk-toggleable__label-arrow\">StandardScaler</label><div class=\"sk-toggleable__content\"><pre>StandardScaler()</pre></div></div></div></div></div></div></div></div><div class=\"sk-parallel-item\"><div class=\"sk-item\"><div class=\"sk-label-container\"><div class=\"sk-label sk-toggleable\"><input class=\"sk-toggleable__control sk-hidden--visually\" id=\"sk-estimator-id-5\" type=\"checkbox\" ><label for=\"sk-estimator-id-5\" class=\"sk-toggleable__label sk-toggleable__label-arrow\">Categorical</label><div class=\"sk-toggleable__content\"><pre>Index([&#x27;sex&#x27;, &#x27;region&#x27;], dtype=&#x27;object&#x27;)</pre></div></div></div><div class=\"sk-serial\"><div class=\"sk-item\"><div class=\"sk-serial\"><div class=\"sk-item\"><div class=\"sk-estimator sk-toggleable\"><input class=\"sk-toggleable__control sk-hidden--visually\" id=\"sk-estimator-id-6\" type=\"checkbox\" ><label for=\"sk-estimator-id-6\" class=\"sk-toggleable__label sk-toggleable__label-arrow\">SimpleImputer</label><div class=\"sk-toggleable__content\"><pre>SimpleImputer(fill_value=&#x27;Missing&#x27;, strategy=&#x27;constant&#x27;)</pre></div></div></div><div class=\"sk-item\"><div class=\"sk-estimator sk-toggleable\"><input class=\"sk-toggleable__control sk-hidden--visually\" id=\"sk-estimator-id-7\" type=\"checkbox\" ><label for=\"sk-estimator-id-7\" class=\"sk-toggleable__label sk-toggleable__label-arrow\">OneHotEncoder</label><div class=\"sk-toggleable__content\"><pre>OneHotEncoder(handle_unknown=&#x27;ignore&#x27;, sparse_output=False)</pre></div></div></div></div></div></div></div></div></div></div></div></div>"
      ],
      "text/plain": [
       "ColumnTransformer(transformers=[('Numeric',\n",
       "                                 Pipeline(steps=[('simpleimputer',\n",
       "                                                  SimpleImputer()),\n",
       "                                                 ('standardscaler',\n",
       "                                                  StandardScaler())]),\n",
       "                                 Index(['age', 'bmi', 'children', 'smoker'], dtype='object')),\n",
       "                                ('Categorical',\n",
       "                                 Pipeline(steps=[('simpleimputer',\n",
       "                                                  SimpleImputer(fill_value='Missing',\n",
       "                                                                strategy='constant')),\n",
       "                                                 ('onehotencoder',\n",
       "                                                  OneHotEncoder(handle_unknown='ignore',\n",
       "                                                                sparse_output=False))]),\n",
       "                                 Index(['sex', 'region'], dtype='object'))],\n",
       "                  verbose_feature_names_out=False)"
      ]
     },
     "execution_count": 8,
     "metadata": {},
     "output_type": "execute_result"
    }
   ],
   "source": [
    "#Fit preprocessor on training data\n",
    "preprocessor.fit(X_train)"
   ]
  },
  {
   "cell_type": "code",
   "execution_count": 9,
   "id": "7a8f18e9",
   "metadata": {},
   "outputs": [
    {
     "data": {
      "text/html": [
       "<div>\n",
       "<style scoped>\n",
       "    .dataframe tbody tr th:only-of-type {\n",
       "        vertical-align: middle;\n",
       "    }\n",
       "\n",
       "    .dataframe tbody tr th {\n",
       "        vertical-align: top;\n",
       "    }\n",
       "\n",
       "    .dataframe thead th {\n",
       "        text-align: right;\n",
       "    }\n",
       "</style>\n",
       "<table border=\"1\" class=\"dataframe\">\n",
       "  <thead>\n",
       "    <tr style=\"text-align: right;\">\n",
       "      <th></th>\n",
       "      <th>age</th>\n",
       "      <th>bmi</th>\n",
       "      <th>children</th>\n",
       "      <th>smoker</th>\n",
       "      <th>sex_female</th>\n",
       "      <th>sex_male</th>\n",
       "      <th>region_northeast</th>\n",
       "      <th>region_northwest</th>\n",
       "      <th>region_southeast</th>\n",
       "      <th>region_southwest</th>\n",
       "    </tr>\n",
       "  </thead>\n",
       "  <tbody>\n",
       "    <tr>\n",
       "      <th>693</th>\n",
       "      <td>-1.087167</td>\n",
       "      <td>-1.140875</td>\n",
       "      <td>-0.917500</td>\n",
       "      <td>-0.508399</td>\n",
       "      <td>0.0</td>\n",
       "      <td>1.0</td>\n",
       "      <td>0.0</td>\n",
       "      <td>1.0</td>\n",
       "      <td>0.0</td>\n",
       "      <td>0.0</td>\n",
       "    </tr>\n",
       "    <tr>\n",
       "      <th>1297</th>\n",
       "      <td>-0.802106</td>\n",
       "      <td>-0.665842</td>\n",
       "      <td>0.743605</td>\n",
       "      <td>-0.508399</td>\n",
       "      <td>1.0</td>\n",
       "      <td>0.0</td>\n",
       "      <td>0.0</td>\n",
       "      <td>0.0</td>\n",
       "      <td>1.0</td>\n",
       "      <td>0.0</td>\n",
       "    </tr>\n",
       "    <tr>\n",
       "      <th>634</th>\n",
       "      <td>0.836992</td>\n",
       "      <td>1.528794</td>\n",
       "      <td>-0.086947</td>\n",
       "      <td>-0.508399</td>\n",
       "      <td>0.0</td>\n",
       "      <td>1.0</td>\n",
       "      <td>0.0</td>\n",
       "      <td>0.0</td>\n",
       "      <td>0.0</td>\n",
       "      <td>1.0</td>\n",
       "    </tr>\n",
       "    <tr>\n",
       "      <th>1022</th>\n",
       "      <td>0.551932</td>\n",
       "      <td>0.926476</td>\n",
       "      <td>-0.086947</td>\n",
       "      <td>1.966960</td>\n",
       "      <td>0.0</td>\n",
       "      <td>1.0</td>\n",
       "      <td>0.0</td>\n",
       "      <td>0.0</td>\n",
       "      <td>1.0</td>\n",
       "      <td>0.0</td>\n",
       "    </tr>\n",
       "    <tr>\n",
       "      <th>178</th>\n",
       "      <td>0.480667</td>\n",
       "      <td>-0.268178</td>\n",
       "      <td>0.743605</td>\n",
       "      <td>-0.508399</td>\n",
       "      <td>1.0</td>\n",
       "      <td>0.0</td>\n",
       "      <td>0.0</td>\n",
       "      <td>0.0</td>\n",
       "      <td>0.0</td>\n",
       "      <td>1.0</td>\n",
       "    </tr>\n",
       "  </tbody>\n",
       "</table>\n",
       "</div>"
      ],
      "text/plain": [
       "           age       bmi  children    smoker  sex_female  sex_male  \\\n",
       "693  -1.087167 -1.140875 -0.917500 -0.508399         0.0       1.0   \n",
       "1297 -0.802106 -0.665842  0.743605 -0.508399         1.0       0.0   \n",
       "634   0.836992  1.528794 -0.086947 -0.508399         0.0       1.0   \n",
       "1022  0.551932  0.926476 -0.086947  1.966960         0.0       1.0   \n",
       "178   0.480667 -0.268178  0.743605 -0.508399         1.0       0.0   \n",
       "\n",
       "      region_northeast  region_northwest  region_southeast  region_southwest  \n",
       "693                0.0               1.0               0.0               0.0  \n",
       "1297               0.0               0.0               1.0               0.0  \n",
       "634                0.0               0.0               0.0               1.0  \n",
       "1022               0.0               0.0               1.0               0.0  \n",
       "178                0.0               0.0               0.0               1.0  "
      ]
     },
     "execution_count": 9,
     "metadata": {},
     "output_type": "execute_result"
    }
   ],
   "source": [
    "#Transform training and testing data\n",
    "X_train_tf = preprocessor.transform(X_train)\n",
    "X_test_tf = preprocessor.transform(X_test)\n",
    "\n",
    "#View preprocessed training data\n",
    "X_train_tf.head()"
   ]
  },
  {
   "cell_type": "markdown",
   "id": "cc2eb9bb",
   "metadata": {},
   "source": [
    "## Model 1: Linear Regression\n",
    "\n",
    "- Now that the data has been preprocessed, we will fit our first model, Linear Regression.\n",
    "- Linear Regression is a simple and easily evaluated model that aims to reduce the total squared errors produced from predictions. The result is a straight line based using the classic regression formula y = mx + b. \n",
    "- After the model is fit, we can determine the intercept of the line, as well as the coefficients produced for each feature of the X set of data. The model uses all of these coefficients and the intercept to do a multiple regression analysis of the data."
   ]
  },
  {
   "cell_type": "code",
   "execution_count": 10,
   "id": "335a6990",
   "metadata": {},
   "outputs": [],
   "source": [
    "#Instantiate the model\n",
    "lin_reg = LinearRegression()"
   ]
  },
  {
   "cell_type": "code",
   "execution_count": 11,
   "id": "335b587c",
   "metadata": {},
   "outputs": [
    {
     "data": {
      "text/html": [
       "<style>#sk-container-id-2 {color: black;background-color: white;}#sk-container-id-2 pre{padding: 0;}#sk-container-id-2 div.sk-toggleable {background-color: white;}#sk-container-id-2 label.sk-toggleable__label {cursor: pointer;display: block;width: 100%;margin-bottom: 0;padding: 0.3em;box-sizing: border-box;text-align: center;}#sk-container-id-2 label.sk-toggleable__label-arrow:before {content: \"▸\";float: left;margin-right: 0.25em;color: #696969;}#sk-container-id-2 label.sk-toggleable__label-arrow:hover:before {color: black;}#sk-container-id-2 div.sk-estimator:hover label.sk-toggleable__label-arrow:before {color: black;}#sk-container-id-2 div.sk-toggleable__content {max-height: 0;max-width: 0;overflow: hidden;text-align: left;background-color: #f0f8ff;}#sk-container-id-2 div.sk-toggleable__content pre {margin: 0.2em;color: black;border-radius: 0.25em;background-color: #f0f8ff;}#sk-container-id-2 input.sk-toggleable__control:checked~div.sk-toggleable__content {max-height: 200px;max-width: 100%;overflow: auto;}#sk-container-id-2 input.sk-toggleable__control:checked~label.sk-toggleable__label-arrow:before {content: \"▾\";}#sk-container-id-2 div.sk-estimator input.sk-toggleable__control:checked~label.sk-toggleable__label {background-color: #d4ebff;}#sk-container-id-2 div.sk-label input.sk-toggleable__control:checked~label.sk-toggleable__label {background-color: #d4ebff;}#sk-container-id-2 input.sk-hidden--visually {border: 0;clip: rect(1px 1px 1px 1px);clip: rect(1px, 1px, 1px, 1px);height: 1px;margin: -1px;overflow: hidden;padding: 0;position: absolute;width: 1px;}#sk-container-id-2 div.sk-estimator {font-family: monospace;background-color: #f0f8ff;border: 1px dotted black;border-radius: 0.25em;box-sizing: border-box;margin-bottom: 0.5em;}#sk-container-id-2 div.sk-estimator:hover {background-color: #d4ebff;}#sk-container-id-2 div.sk-parallel-item::after {content: \"\";width: 100%;border-bottom: 1px solid gray;flex-grow: 1;}#sk-container-id-2 div.sk-label:hover label.sk-toggleable__label {background-color: #d4ebff;}#sk-container-id-2 div.sk-serial::before {content: \"\";position: absolute;border-left: 1px solid gray;box-sizing: border-box;top: 0;bottom: 0;left: 50%;z-index: 0;}#sk-container-id-2 div.sk-serial {display: flex;flex-direction: column;align-items: center;background-color: white;padding-right: 0.2em;padding-left: 0.2em;position: relative;}#sk-container-id-2 div.sk-item {position: relative;z-index: 1;}#sk-container-id-2 div.sk-parallel {display: flex;align-items: stretch;justify-content: center;background-color: white;position: relative;}#sk-container-id-2 div.sk-item::before, #sk-container-id-2 div.sk-parallel-item::before {content: \"\";position: absolute;border-left: 1px solid gray;box-sizing: border-box;top: 0;bottom: 0;left: 50%;z-index: -1;}#sk-container-id-2 div.sk-parallel-item {display: flex;flex-direction: column;z-index: 1;position: relative;background-color: white;}#sk-container-id-2 div.sk-parallel-item:first-child::after {align-self: flex-end;width: 50%;}#sk-container-id-2 div.sk-parallel-item:last-child::after {align-self: flex-start;width: 50%;}#sk-container-id-2 div.sk-parallel-item:only-child::after {width: 0;}#sk-container-id-2 div.sk-dashed-wrapped {border: 1px dashed gray;margin: 0 0.4em 0.5em 0.4em;box-sizing: border-box;padding-bottom: 0.4em;background-color: white;}#sk-container-id-2 div.sk-label label {font-family: monospace;font-weight: bold;display: inline-block;line-height: 1.2em;}#sk-container-id-2 div.sk-label-container {text-align: center;}#sk-container-id-2 div.sk-container {/* jupyter's `normalize.less` sets `[hidden] { display: none; }` but bootstrap.min.css set `[hidden] { display: none !important; }` so we also need the `!important` here to be able to override the default hidden behavior on the sphinx rendered scikit-learn.org. See: https://github.com/scikit-learn/scikit-learn/issues/21755 */display: inline-block !important;position: relative;}#sk-container-id-2 div.sk-text-repr-fallback {display: none;}</style><div id=\"sk-container-id-2\" class=\"sk-top-container\"><div class=\"sk-text-repr-fallback\"><pre>LinearRegression()</pre><b>In a Jupyter environment, please rerun this cell to show the HTML representation or trust the notebook. <br />On GitHub, the HTML representation is unable to render, please try loading this page with nbviewer.org.</b></div><div class=\"sk-container\" hidden><div class=\"sk-item\"><div class=\"sk-estimator sk-toggleable\"><input class=\"sk-toggleable__control sk-hidden--visually\" id=\"sk-estimator-id-8\" type=\"checkbox\" checked><label for=\"sk-estimator-id-8\" class=\"sk-toggleable__label sk-toggleable__label-arrow\">LinearRegression</label><div class=\"sk-toggleable__content\"><pre>LinearRegression()</pre></div></div></div></div></div>"
      ],
      "text/plain": [
       "LinearRegression()"
      ]
     },
     "execution_count": 11,
     "metadata": {},
     "output_type": "execute_result"
    }
   ],
   "source": [
    "#Fit the model onto the training data\n",
    "lin_reg.fit(X_train_tf, y_train)"
   ]
  },
  {
   "cell_type": "code",
   "execution_count": 12,
   "id": "e1ba0958",
   "metadata": {},
   "outputs": [
    {
     "data": {
      "text/plain": [
       "3.75043980544144e+16"
      ]
     },
     "execution_count": 12,
     "metadata": {},
     "output_type": "execute_result"
    }
   ],
   "source": [
    "#View the intercept of the line\n",
    "lin_reg.intercept_"
   ]
  },
  {
   "cell_type": "code",
   "execution_count": 13,
   "id": "eebd8d10",
   "metadata": {},
   "outputs": [
    {
     "data": {
      "text/plain": [
       "array([ 3.64288226e+03,  2.04174591e+03,  5.13908932e+02,  9.54795339e+03,\n",
       "       -3.90284646e+16, -3.90284646e+16,  1.52406651e+15,  1.52406651e+15,\n",
       "        1.52406651e+15,  1.52406651e+15])"
      ]
     },
     "execution_count": 13,
     "metadata": {},
     "output_type": "execute_result"
    }
   ],
   "source": [
    "#Determine the coeffcients from the regression\n",
    "lin_reg.coef_"
   ]
  },
  {
   "cell_type": "code",
   "execution_count": 14,
   "id": "41822c61",
   "metadata": {},
   "outputs": [],
   "source": [
    "#Get predictions for training data\n",
    "y_pred_train = lin_reg.predict(X_train_tf)\n",
    "\n",
    "#Get predictions for testing data\n",
    "y_pred_test = lin_reg.predict(X_test_tf)"
   ]
  },
  {
   "cell_type": "code",
   "execution_count": 15,
   "id": "1074df5c",
   "metadata": {},
   "outputs": [
    {
     "data": {
      "text/html": [
       "<div>\n",
       "<style scoped>\n",
       "    .dataframe tbody tr th:only-of-type {\n",
       "        vertical-align: middle;\n",
       "    }\n",
       "\n",
       "    .dataframe tbody tr th {\n",
       "        vertical-align: top;\n",
       "    }\n",
       "\n",
       "    .dataframe thead th {\n",
       "        text-align: right;\n",
       "    }\n",
       "</style>\n",
       "<table border=\"1\" class=\"dataframe\">\n",
       "  <thead>\n",
       "    <tr style=\"text-align: right;\">\n",
       "      <th></th>\n",
       "      <th>Actual</th>\n",
       "      <th>Predicted</th>\n",
       "      <th>Error</th>\n",
       "    </tr>\n",
       "  </thead>\n",
       "  <tbody>\n",
       "    <tr>\n",
       "      <th>764</th>\n",
       "      <td>9095.0</td>\n",
       "      <td>8960.0</td>\n",
       "      <td>-135.0</td>\n",
       "    </tr>\n",
       "    <tr>\n",
       "      <th>887</th>\n",
       "      <td>5272.0</td>\n",
       "      <td>7064.0</td>\n",
       "      <td>1792.0</td>\n",
       "    </tr>\n",
       "    <tr>\n",
       "      <th>890</th>\n",
       "      <td>29331.0</td>\n",
       "      <td>36904.0</td>\n",
       "      <td>7573.0</td>\n",
       "    </tr>\n",
       "    <tr>\n",
       "      <th>1293</th>\n",
       "      <td>9302.0</td>\n",
       "      <td>9488.0</td>\n",
       "      <td>186.0</td>\n",
       "    </tr>\n",
       "    <tr>\n",
       "      <th>259</th>\n",
       "      <td>33750.0</td>\n",
       "      <td>26928.0</td>\n",
       "      <td>-6822.0</td>\n",
       "    </tr>\n",
       "    <tr>\n",
       "      <th>...</th>\n",
       "      <td>...</td>\n",
       "      <td>...</td>\n",
       "      <td>...</td>\n",
       "    </tr>\n",
       "    <tr>\n",
       "      <th>342</th>\n",
       "      <td>13217.0</td>\n",
       "      <td>12808.0</td>\n",
       "      <td>-409.0</td>\n",
       "    </tr>\n",
       "    <tr>\n",
       "      <th>308</th>\n",
       "      <td>11945.0</td>\n",
       "      <td>14768.0</td>\n",
       "      <td>2823.0</td>\n",
       "    </tr>\n",
       "    <tr>\n",
       "      <th>1128</th>\n",
       "      <td>14358.0</td>\n",
       "      <td>7424.0</td>\n",
       "      <td>-6934.0</td>\n",
       "    </tr>\n",
       "    <tr>\n",
       "      <th>503</th>\n",
       "      <td>32548.0</td>\n",
       "      <td>25936.0</td>\n",
       "      <td>-6612.0</td>\n",
       "    </tr>\n",
       "    <tr>\n",
       "      <th>1197</th>\n",
       "      <td>5700.0</td>\n",
       "      <td>9136.0</td>\n",
       "      <td>3436.0</td>\n",
       "    </tr>\n",
       "  </tbody>\n",
       "</table>\n",
       "<p>335 rows × 3 columns</p>\n",
       "</div>"
      ],
      "text/plain": [
       "       Actual  Predicted   Error\n",
       "764    9095.0     8960.0  -135.0\n",
       "887    5272.0     7064.0  1792.0\n",
       "890   29331.0    36904.0  7573.0\n",
       "1293   9302.0     9488.0   186.0\n",
       "259   33750.0    26928.0 -6822.0\n",
       "...       ...        ...     ...\n",
       "342   13217.0    12808.0  -409.0\n",
       "308   11945.0    14768.0  2823.0\n",
       "1128  14358.0     7424.0 -6934.0\n",
       "503   32548.0    25936.0 -6612.0\n",
       "1197   5700.0     9136.0  3436.0\n",
       "\n",
       "[335 rows x 3 columns]"
      ]
     },
     "execution_count": 15,
     "metadata": {},
     "output_type": "execute_result"
    }
   ],
   "source": [
    "#View results of the testing predictions in a new data frame\n",
    "results = pd.DataFrame({'Actual': y_test, 'Predicted': y_pred_test, \n",
    "                        'Error': y_pred_test - y_test})\n",
    "results"
   ]
  },
  {
   "cell_type": "markdown",
   "id": "ab503fe0",
   "metadata": {},
   "source": [
    "- In the error column, we can see that the values range from pretty large (in the thousands) to pretty small (in the hundreds), as well as both positive and negative error values. But this will not necessarily tell us how well our model did at predicting overall. We need to evaluate the model using different metrics to see how well the model actually performed.\n"
   ]
  },
  {
   "cell_type": "markdown",
   "id": "b4e44a1a",
   "metadata": {},
   "source": [
    "### Different Metrics Explained\n",
    "\n",
    "- There are 4 common metrics that can be used to evaluate the model:\n",
    "    - Mean Absolute Error (MAE): When measuring the mean absolute error, the absolute value of every error value is added together and then divided by the total number of errors, giving the mean. A lower MAE value equates to a better performing model. This is an intuitive metric to understand and explain to stakeholders.\n",
    "    - Mean Squared Error (MSE): Mean squared error calculates the same way as MAE, but instead of taking the absolute value of each error, it squares them instead. This allows for the metric to penalize the model for larger errors, but gives values that are in squared units, instead of the same units as the problem, which makes it less intuitive of a metric to interpret and explain. As with MAE, a lower MSE equates to a better performing model.\n",
    "    - Root Mean Squared Error (RMSE): Root mean squared error is the result of taking the square root of the MSE value. This allows for penalization of large errors that the model makes, but returns values in the same units as the original problem. RMSE is easier to explain to stakeholders than MSE. Lower RMSE scores are better.\n",
    "    - R-Squared (R2): The R2 score will tell us the percentage of variance that is explained in the model. Usually, the higher the R2 the better, because more variance can be explained. This metric is not very intuitive, especially for a non-technical audience."
   ]
  },
  {
   "cell_type": "code",
   "execution_count": 16,
   "id": "4c4f405e",
   "metadata": {},
   "outputs": [
    {
     "name": "stdout",
     "output_type": "stream",
     "text": [
      "Model Training MAE: 4,180.30\n",
      "Model Testing MAE: 4,239.17\n"
     ]
    }
   ],
   "source": [
    "##Using code to derive metrical evaluation\n",
    "#Calculating MAE\n",
    "train_MAE = mean_absolute_error(y_train, y_pred_train)\n",
    "test_MAE = mean_absolute_error(y_test, y_pred_test)\n",
    "print(f'Model Training MAE: {train_MAE:,.2f}')\n",
    "print(f'Model Testing MAE: {test_MAE:,.2f}')"
   ]
  },
  {
   "cell_type": "code",
   "execution_count": 17,
   "id": "ee809476",
   "metadata": {},
   "outputs": [
    {
     "name": "stdout",
     "output_type": "stream",
     "text": [
      "Model Training MSE: 37,004,850.50\n",
      "Model Testing MSE: 35,103,353.69\n"
     ]
    }
   ],
   "source": [
    "#Calculating MSE\n",
    "train_MSE = mean_squared_error(y_train, y_pred_train)\n",
    "test_MSE = mean_squared_error(y_test, y_pred_test)\n",
    "print(f'Model Training MSE: {train_MSE:,.2f}')\n",
    "print(f'Model Testing MSE: {test_MSE:,.2f}')"
   ]
  },
  {
   "cell_type": "code",
   "execution_count": 18,
   "id": "c139301e",
   "metadata": {},
   "outputs": [
    {
     "name": "stdout",
     "output_type": "stream",
     "text": [
      "Model Training RMSE: 6,083.16\n",
      "Model Testing RMSE: 5,924.81\n"
     ]
    }
   ],
   "source": [
    "#Calculating RMSE\n",
    "train_RMSE = mean_squared_error(y_train, y_pred_train, squared=False)\n",
    "test_RMSE = mean_squared_error(y_test, y_pred_test, squared=False)\n",
    "print(f'Model Training RMSE: {train_RMSE:,.2f}')\n",
    "print(f'Model Testing RMSE: {test_RMSE:,.2f}')"
   ]
  },
  {
   "cell_type": "code",
   "execution_count": 19,
   "id": "35c51b9c",
   "metadata": {},
   "outputs": [
    {
     "name": "stdout",
     "output_type": "stream",
     "text": [
      "Model Training R2: 0.74\n",
      "Model Testing R2: 0.77\n"
     ]
    }
   ],
   "source": [
    "#Calcuating R2\n",
    "train_r2 = r2_score(y_train, y_pred_train)\n",
    "test_r2 = r2_score(y_test, y_pred_test)\n",
    "print(f'Model Training R2: {train_r2:.2f}')\n",
    "print(f'Model Testing R2: {test_r2:.2f}')"
   ]
  },
  {
   "cell_type": "code",
   "execution_count": 20,
   "id": "3c96a5c0",
   "metadata": {},
   "outputs": [
    {
     "name": "stdout",
     "output_type": "stream",
     "text": [
      "Model Training MAE: 4,180.30\n",
      "Model Training MSE: 37,004,850.50\n",
      "Model Training RMSE: 6,083.16\n",
      "Model Training R2: 0.74\n"
     ]
    }
   ],
   "source": [
    "#View training metrics altogether\n",
    "print(f'Model Training MAE: {train_MAE:,.2f}')\n",
    "print(f'Model Training MSE: {train_MSE:,.2f}')\n",
    "print(f'Model Training RMSE: {train_RMSE:,.2f}')\n",
    "print(f'Model Training R2: {train_r2:.2f}')"
   ]
  },
  {
   "cell_type": "code",
   "execution_count": 21,
   "id": "8148364c",
   "metadata": {},
   "outputs": [
    {
     "name": "stdout",
     "output_type": "stream",
     "text": [
      "Model Testing MAE: 4,239.17\n",
      "Model Testing MSE: 35,103,353.69\n",
      "Model Testing RMSE: 5,924.81\n",
      "Model Testing R2: 0.77\n"
     ]
    }
   ],
   "source": [
    "#View testing metrics altogether\n",
    "print(f'Model Testing MAE: {test_MAE:,.2f}')\n",
    "print(f'Model Testing MSE: {test_MSE:,.2f}')\n",
    "print(f'Model Testing RMSE: {test_RMSE:,.2f}')\n",
    "print(f'Model Testing R2: {test_r2:.2f}')"
   ]
  },
  {
   "cell_type": "markdown",
   "id": "406385cf",
   "metadata": {},
   "source": [
    "### Linear Regression Metrics Interpreted\n",
    "\n",
    "- For this basic linear regression model, we can interpret the metrics used above like so:\n",
    "    - The model returned an MAE of \\$4,239.17. This means the model made an average error of approximately 4 thousand dollars. \n",
    "    - The MSE returned is 35,103,353.69 sqaured dollars. Because this value is very high, this lets us know that there are some large errors that occurred in the model's predictions.\n",
    "    - The RMSE is \\$5,924.81, which means the average error was around 5 thousand dollars.\n",
    "    - With an R2 score of 0.77, this model can explain about 77% of the variance that occurs in the predictions. This score is not too bad!"
   ]
  },
  {
   "cell_type": "markdown",
   "id": "1e9b9270",
   "metadata": {},
   "source": [
    "## Model 2: Random Forest\n",
    "\n",
    "- Our second regression model will be a random forest. This is known as an ensemble type algorithm, as it uses many singular models together in order to make more accurate predictions."
   ]
  },
  {
   "cell_type": "code",
   "execution_count": 22,
   "id": "9e5423b3",
   "metadata": {},
   "outputs": [],
   "source": [
    "#Instantiate the model\n",
    "random_forest = RandomForestRegressor()"
   ]
  },
  {
   "cell_type": "code",
   "execution_count": 23,
   "id": "be583e30",
   "metadata": {},
   "outputs": [
    {
     "data": {
      "text/html": [
       "<style>#sk-container-id-3 {color: black;background-color: white;}#sk-container-id-3 pre{padding: 0;}#sk-container-id-3 div.sk-toggleable {background-color: white;}#sk-container-id-3 label.sk-toggleable__label {cursor: pointer;display: block;width: 100%;margin-bottom: 0;padding: 0.3em;box-sizing: border-box;text-align: center;}#sk-container-id-3 label.sk-toggleable__label-arrow:before {content: \"▸\";float: left;margin-right: 0.25em;color: #696969;}#sk-container-id-3 label.sk-toggleable__label-arrow:hover:before {color: black;}#sk-container-id-3 div.sk-estimator:hover label.sk-toggleable__label-arrow:before {color: black;}#sk-container-id-3 div.sk-toggleable__content {max-height: 0;max-width: 0;overflow: hidden;text-align: left;background-color: #f0f8ff;}#sk-container-id-3 div.sk-toggleable__content pre {margin: 0.2em;color: black;border-radius: 0.25em;background-color: #f0f8ff;}#sk-container-id-3 input.sk-toggleable__control:checked~div.sk-toggleable__content {max-height: 200px;max-width: 100%;overflow: auto;}#sk-container-id-3 input.sk-toggleable__control:checked~label.sk-toggleable__label-arrow:before {content: \"▾\";}#sk-container-id-3 div.sk-estimator input.sk-toggleable__control:checked~label.sk-toggleable__label {background-color: #d4ebff;}#sk-container-id-3 div.sk-label input.sk-toggleable__control:checked~label.sk-toggleable__label {background-color: #d4ebff;}#sk-container-id-3 input.sk-hidden--visually {border: 0;clip: rect(1px 1px 1px 1px);clip: rect(1px, 1px, 1px, 1px);height: 1px;margin: -1px;overflow: hidden;padding: 0;position: absolute;width: 1px;}#sk-container-id-3 div.sk-estimator {font-family: monospace;background-color: #f0f8ff;border: 1px dotted black;border-radius: 0.25em;box-sizing: border-box;margin-bottom: 0.5em;}#sk-container-id-3 div.sk-estimator:hover {background-color: #d4ebff;}#sk-container-id-3 div.sk-parallel-item::after {content: \"\";width: 100%;border-bottom: 1px solid gray;flex-grow: 1;}#sk-container-id-3 div.sk-label:hover label.sk-toggleable__label {background-color: #d4ebff;}#sk-container-id-3 div.sk-serial::before {content: \"\";position: absolute;border-left: 1px solid gray;box-sizing: border-box;top: 0;bottom: 0;left: 50%;z-index: 0;}#sk-container-id-3 div.sk-serial {display: flex;flex-direction: column;align-items: center;background-color: white;padding-right: 0.2em;padding-left: 0.2em;position: relative;}#sk-container-id-3 div.sk-item {position: relative;z-index: 1;}#sk-container-id-3 div.sk-parallel {display: flex;align-items: stretch;justify-content: center;background-color: white;position: relative;}#sk-container-id-3 div.sk-item::before, #sk-container-id-3 div.sk-parallel-item::before {content: \"\";position: absolute;border-left: 1px solid gray;box-sizing: border-box;top: 0;bottom: 0;left: 50%;z-index: -1;}#sk-container-id-3 div.sk-parallel-item {display: flex;flex-direction: column;z-index: 1;position: relative;background-color: white;}#sk-container-id-3 div.sk-parallel-item:first-child::after {align-self: flex-end;width: 50%;}#sk-container-id-3 div.sk-parallel-item:last-child::after {align-self: flex-start;width: 50%;}#sk-container-id-3 div.sk-parallel-item:only-child::after {width: 0;}#sk-container-id-3 div.sk-dashed-wrapped {border: 1px dashed gray;margin: 0 0.4em 0.5em 0.4em;box-sizing: border-box;padding-bottom: 0.4em;background-color: white;}#sk-container-id-3 div.sk-label label {font-family: monospace;font-weight: bold;display: inline-block;line-height: 1.2em;}#sk-container-id-3 div.sk-label-container {text-align: center;}#sk-container-id-3 div.sk-container {/* jupyter's `normalize.less` sets `[hidden] { display: none; }` but bootstrap.min.css set `[hidden] { display: none !important; }` so we also need the `!important` here to be able to override the default hidden behavior on the sphinx rendered scikit-learn.org. See: https://github.com/scikit-learn/scikit-learn/issues/21755 */display: inline-block !important;position: relative;}#sk-container-id-3 div.sk-text-repr-fallback {display: none;}</style><div id=\"sk-container-id-3\" class=\"sk-top-container\"><div class=\"sk-text-repr-fallback\"><pre>RandomForestRegressor()</pre><b>In a Jupyter environment, please rerun this cell to show the HTML representation or trust the notebook. <br />On GitHub, the HTML representation is unable to render, please try loading this page with nbviewer.org.</b></div><div class=\"sk-container\" hidden><div class=\"sk-item\"><div class=\"sk-estimator sk-toggleable\"><input class=\"sk-toggleable__control sk-hidden--visually\" id=\"sk-estimator-id-9\" type=\"checkbox\" checked><label for=\"sk-estimator-id-9\" class=\"sk-toggleable__label sk-toggleable__label-arrow\">RandomForestRegressor</label><div class=\"sk-toggleable__content\"><pre>RandomForestRegressor()</pre></div></div></div></div></div>"
      ],
      "text/plain": [
       "RandomForestRegressor()"
      ]
     },
     "execution_count": 23,
     "metadata": {},
     "output_type": "execute_result"
    }
   ],
   "source": [
    "#Fit the model on the training data\n",
    "random_forest.fit(X_train_tf, y_train)"
   ]
  },
  {
   "cell_type": "code",
   "execution_count": 24,
   "id": "b005f9f5",
   "metadata": {},
   "outputs": [],
   "source": [
    "#Get predictions for training data\n",
    "y_pred_train = random_forest.predict(X_train_tf)\n",
    "\n",
    "#Get predictions for testing data\n",
    "y_pred_test = random_forest.predict(X_test_tf)"
   ]
  },
  {
   "cell_type": "code",
   "execution_count": 25,
   "id": "3bf9ca4d",
   "metadata": {},
   "outputs": [
    {
     "name": "stdout",
     "output_type": "stream",
     "text": [
      "Model Training MAE: 1,021.42\n",
      "Model Testing MAE: 2,596.28\n"
     ]
    }
   ],
   "source": [
    "#Evaluate model using MAE\n",
    "train_MAE = mean_absolute_error(y_train, y_pred_train)\n",
    "test_MAE = mean_absolute_error(y_test, y_pred_test)\n",
    "print(f'Model Training MAE: {train_MAE:,.2f}')\n",
    "print(f'Model Testing MAE: {test_MAE:,.2f}')"
   ]
  },
  {
   "cell_type": "code",
   "execution_count": 26,
   "id": "8015845f",
   "metadata": {},
   "outputs": [
    {
     "name": "stdout",
     "output_type": "stream",
     "text": [
      "Model Training MSE: 3,506,607.41\n",
      "Model Testing MSE: 22,616,773.35\n"
     ]
    }
   ],
   "source": [
    "#Evaluate model using MSE\n",
    "train_MSE = mean_squared_error(y_train, y_pred_train)\n",
    "test_MSE = mean_squared_error(y_test, y_pred_test)\n",
    "print(f'Model Training MSE: {train_MSE:,.2f}')\n",
    "print(f'Model Testing MSE: {test_MSE:,.2f}')"
   ]
  },
  {
   "cell_type": "code",
   "execution_count": 27,
   "id": "8b782b4d",
   "metadata": {},
   "outputs": [
    {
     "name": "stdout",
     "output_type": "stream",
     "text": [
      "Model Training RMSE: 1,872.59\n",
      "Model Testing RMSE: 4,755.71\n"
     ]
    }
   ],
   "source": [
    "#Evaluate model using RMSE\n",
    "train_RMSE = mean_squared_error(y_train, y_pred_train, squared=False)\n",
    "test_RMSE = mean_squared_error(y_test, y_pred_test, squared=False)\n",
    "print(f'Model Training RMSE: {train_RMSE:,.2f}')\n",
    "print(f'Model Testing RMSE: {test_RMSE:,.2f}')"
   ]
  },
  {
   "cell_type": "code",
   "execution_count": 28,
   "id": "de5ff111",
   "metadata": {},
   "outputs": [
    {
     "name": "stdout",
     "output_type": "stream",
     "text": [
      "Model Training R2: 0.98\n",
      "Model Testing R2: 0.85\n"
     ]
    }
   ],
   "source": [
    "#Evaluate model using R2\n",
    "train_r2 = r2_score(y_train, y_pred_train)\n",
    "test_r2 = r2_score(y_test, y_pred_test)\n",
    "print(f'Model Training R2: {train_r2:.2f}')\n",
    "print(f'Model Testing R2: {test_r2:.2f}')"
   ]
  },
  {
   "cell_type": "markdown",
   "id": "e20ff6b3",
   "metadata": {},
   "source": [
    "### Random Forest Metrics Interpreted\n",
    "\n",
    "- The MAE of the random forest was \\$2,596.28, which is a lower score than our linear regression model. \n",
    "- The MSE was \\$22,616,773.35, which again is lower than the linear regression model. This still shows some potentially large errors in the model.\n",
    "- The RMSE is \\$4,755.71, again coming in lower than the linear regression model.\n",
    "- Finally, the R2 for this model is 0.85, which means it can explain about 85% of the variance in the predictions.\n",
    "- Overall, the random forest model performed better than the linear regression model."
   ]
  },
  {
   "cell_type": "markdown",
   "id": "2f520842",
   "metadata": {},
   "source": [
    "## Conclusions\n",
    "\n",
    "- In this notebook, we looked at how to build, run, and interpret 2 types of regression machine learning algorithms. After running both models, we compared the evaluations of both models to determine which model had better predictive power for this data set.\n",
    "    - We imported new packages for regression algorithms and metrics.\n",
    "    - We quickly preprocessed the data for machine learning.\n",
    "    - We built a linear regression model and evaluated the model using 4 different metrics.\n",
    "    - We did the same with a random forest model, and compared the 2 models to determine that a random forest model is more accurate at predicting the target variable of this data set."
   ]
  },
  {
   "cell_type": "code",
   "execution_count": null,
   "id": "5fd88ab7",
   "metadata": {},
   "outputs": [],
   "source": []
  }
 ],
 "metadata": {
  "kernelspec": {
   "display_name": "Python (dojo-env)",
   "language": "python",
   "name": "dojo-env"
  },
  "language_info": {
   "codemirror_mode": {
    "name": "ipython",
    "version": 3
   },
   "file_extension": ".py",
   "mimetype": "text/x-python",
   "name": "python",
   "nbconvert_exporter": "python",
   "pygments_lexer": "ipython3",
   "version": "3.9.15"
  },
  "toc": {
   "base_numbering": 1,
   "nav_menu": {},
   "number_sections": false,
   "sideBar": true,
   "skip_h1_title": false,
   "title_cell": "Table of Contents",
   "title_sidebar": "Contents",
   "toc_cell": false,
   "toc_position": {},
   "toc_section_display": true,
   "toc_window_display": false
  }
 },
 "nbformat": 4,
 "nbformat_minor": 5
}
