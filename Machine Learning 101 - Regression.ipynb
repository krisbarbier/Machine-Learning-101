{
 "cells": [
  {
   "cell_type": "markdown",
   "id": "b235b188",
   "metadata": {},
   "source": [
    "# Machine Learning 101 - Regression\n",
    "\n",
    "## How to Build Regression Models\n",
    "\n",
    "Author: Kris Barbier"
   ]
  },
  {
   "cell_type": "markdown",
   "id": "91e3463f",
   "metadata": {},
   "source": [
    "### Overview:\n",
    "\n",
    "This notebook will demonstrate how to build and interpret 2 types of regression models: Linear Regression and Random Forests."
   ]
  },
  {
   "cell_type": "markdown",
   "id": "f1072fa4",
   "metadata": {},
   "source": [
    "### Regression Models Overview:\n",
    "\n",
    "- In supervised machine learning, there are two main tasks that can be completed. In this notebook, we will build and interpret regression models, which are used to predict continuous numerical values. We will use the following steps to complete our models:\n",
    "    - Import needed libraries and read in data.\n",
    "    - Quickly preprocess data for modeling (for an in depth look at preprocessing, check out the preprocessing notebook).\n",
    "    - Use model pipelines to efficiently build 2 different types of regression models.\n",
    "    - Evaluate models using different metrics to test each model's accuracy of predictions."
   ]
  },
  {
   "cell_type": "markdown",
   "id": "b893421b",
   "metadata": {},
   "source": [
    "## Regression Models in Code"
   ]
  },
  {
   "cell_type": "markdown",
   "id": "82f1d280",
   "metadata": {},
   "source": [
    "### Import Libraries and Read in Data"
   ]
  },
  {
   "cell_type": "code",
   "execution_count": 1,
   "id": "40a847de",
   "metadata": {},
   "outputs": [],
   "source": [
    "#Common imports for data science\n",
    "import pandas as pd\n",
    "import numpy as np\n",
    "import matplotlib.pyplot as plt  #For visualizations\n",
    "import seaborn as sns #For visualizations\n",
    "\n",
    "#Imports for machine learning \n",
    "from sklearn.model_selection import train_test_split  #For validation split\n",
    "\n",
    "#Imports for feature transformations\n",
    "from sklearn.preprocessing import StandardScaler, OneHotEncoder\n",
    "from sklearn.impute import SimpleImputer\n",
    "\n",
    "#Imports for building preprocessing object\n",
    "from sklearn.compose import ColumnTransformer\n",
    "from sklearn.pipeline import make_pipeline\n",
    "\n",
    "#Imports for regression models\n",
    "from sklearn.linear_model import LinearRegression\n",
    "from sklearn.ensemble import RandomForestRegressor\n",
    "\n",
    "#Imports for model metrics\n",
    "from sklearn.metrics import mean_absolute_error\n",
    "from sklearn.metrics import mean_squared_error\n",
    "from sklearn.metrics import r2_score\n",
    "\n",
    "#Set sklearn output to pandas\n",
    "from sklearn import set_config\n",
    "set_config(transform_output = 'pandas')\n",
    "\n",
    "#Mute warnings\n",
    "import warnings\n",
    "warnings.filterwarnings('ignore')"
   ]
  },
  {
   "cell_type": "code",
   "execution_count": 2,
   "id": "7fb9a13a",
   "metadata": {},
   "outputs": [
    {
     "data": {
      "text/html": [
       "<div>\n",
       "<style scoped>\n",
       "    .dataframe tbody tr th:only-of-type {\n",
       "        vertical-align: middle;\n",
       "    }\n",
       "\n",
       "    .dataframe tbody tr th {\n",
       "        vertical-align: top;\n",
       "    }\n",
       "\n",
       "    .dataframe thead th {\n",
       "        text-align: right;\n",
       "    }\n",
       "</style>\n",
       "<table border=\"1\" class=\"dataframe\">\n",
       "  <thead>\n",
       "    <tr style=\"text-align: right;\">\n",
       "      <th></th>\n",
       "      <th>age</th>\n",
       "      <th>sex</th>\n",
       "      <th>bmi</th>\n",
       "      <th>children</th>\n",
       "      <th>smoker</th>\n",
       "      <th>region</th>\n",
       "      <th>charges</th>\n",
       "    </tr>\n",
       "  </thead>\n",
       "  <tbody>\n",
       "    <tr>\n",
       "      <th>0</th>\n",
       "      <td>19</td>\n",
       "      <td>female</td>\n",
       "      <td>27.900</td>\n",
       "      <td>0</td>\n",
       "      <td>1</td>\n",
       "      <td>southwest</td>\n",
       "      <td>16885.0</td>\n",
       "    </tr>\n",
       "    <tr>\n",
       "      <th>1</th>\n",
       "      <td>18</td>\n",
       "      <td>male</td>\n",
       "      <td>33.770</td>\n",
       "      <td>1</td>\n",
       "      <td>0</td>\n",
       "      <td>southeast</td>\n",
       "      <td>1726.0</td>\n",
       "    </tr>\n",
       "    <tr>\n",
       "      <th>2</th>\n",
       "      <td>28</td>\n",
       "      <td>male</td>\n",
       "      <td>33.000</td>\n",
       "      <td>3</td>\n",
       "      <td>0</td>\n",
       "      <td>southeast</td>\n",
       "      <td>4449.0</td>\n",
       "    </tr>\n",
       "    <tr>\n",
       "      <th>3</th>\n",
       "      <td>33</td>\n",
       "      <td>male</td>\n",
       "      <td>22.705</td>\n",
       "      <td>0</td>\n",
       "      <td>0</td>\n",
       "      <td>northwest</td>\n",
       "      <td>21984.0</td>\n",
       "    </tr>\n",
       "    <tr>\n",
       "      <th>4</th>\n",
       "      <td>32</td>\n",
       "      <td>male</td>\n",
       "      <td>28.880</td>\n",
       "      <td>0</td>\n",
       "      <td>0</td>\n",
       "      <td>northwest</td>\n",
       "      <td>3867.0</td>\n",
       "    </tr>\n",
       "  </tbody>\n",
       "</table>\n",
       "</div>"
      ],
      "text/plain": [
       "   age     sex     bmi  children  smoker     region  charges\n",
       "0   19  female  27.900         0       1  southwest  16885.0\n",
       "1   18    male  33.770         1       0  southeast   1726.0\n",
       "2   28    male  33.000         3       0  southeast   4449.0\n",
       "3   33    male  22.705         0       0  northwest  21984.0\n",
       "4   32    male  28.880         0       0  northwest   3867.0"
      ]
     },
     "execution_count": 2,
     "metadata": {},
     "output_type": "execute_result"
    }
   ],
   "source": [
    "#Read in sample dataset from repo folder\n",
    "file_path = \"Data/insurance_mod.csv\"\n",
    "df = pd.read_csv(file_path)\n",
    "#Preview data\n",
    "df.head()"
   ]
  },
  {
   "cell_type": "markdown",
   "id": "4f3a24c0",
   "metadata": {},
   "source": [
    "### Preprocess Data\n",
    "\n",
    "- In this step, we will go through the process of preprocessing data for this task. In this notebook, the steps will be condensed to save space. For an in-depth look at preprocessing, see the separate preprocessing notebook from this repo."
   ]
  },
  {
   "cell_type": "code",
   "execution_count": 3,
   "id": "f487e027",
   "metadata": {},
   "outputs": [],
   "source": [
    "#Define X and y variables\n",
    "y = df['charges']\n",
    "X = df.drop(columns = 'charges')"
   ]
  },
  {
   "cell_type": "code",
   "execution_count": 4,
   "id": "57688c63",
   "metadata": {},
   "outputs": [
    {
     "data": {
      "text/html": [
       "<div>\n",
       "<style scoped>\n",
       "    .dataframe tbody tr th:only-of-type {\n",
       "        vertical-align: middle;\n",
       "    }\n",
       "\n",
       "    .dataframe tbody tr th {\n",
       "        vertical-align: top;\n",
       "    }\n",
       "\n",
       "    .dataframe thead th {\n",
       "        text-align: right;\n",
       "    }\n",
       "</style>\n",
       "<table border=\"1\" class=\"dataframe\">\n",
       "  <thead>\n",
       "    <tr style=\"text-align: right;\">\n",
       "      <th></th>\n",
       "      <th>age</th>\n",
       "      <th>sex</th>\n",
       "      <th>bmi</th>\n",
       "      <th>children</th>\n",
       "      <th>smoker</th>\n",
       "      <th>region</th>\n",
       "    </tr>\n",
       "  </thead>\n",
       "  <tbody>\n",
       "    <tr>\n",
       "      <th>693</th>\n",
       "      <td>24</td>\n",
       "      <td>male</td>\n",
       "      <td>23.655</td>\n",
       "      <td>0</td>\n",
       "      <td>0</td>\n",
       "      <td>northwest</td>\n",
       "    </tr>\n",
       "    <tr>\n",
       "      <th>1297</th>\n",
       "      <td>28</td>\n",
       "      <td>female</td>\n",
       "      <td>26.510</td>\n",
       "      <td>2</td>\n",
       "      <td>0</td>\n",
       "      <td>southeast</td>\n",
       "    </tr>\n",
       "    <tr>\n",
       "      <th>634</th>\n",
       "      <td>51</td>\n",
       "      <td>male</td>\n",
       "      <td>39.700</td>\n",
       "      <td>1</td>\n",
       "      <td>0</td>\n",
       "      <td>southwest</td>\n",
       "    </tr>\n",
       "    <tr>\n",
       "      <th>1022</th>\n",
       "      <td>47</td>\n",
       "      <td>male</td>\n",
       "      <td>36.080</td>\n",
       "      <td>1</td>\n",
       "      <td>1</td>\n",
       "      <td>southeast</td>\n",
       "    </tr>\n",
       "    <tr>\n",
       "      <th>178</th>\n",
       "      <td>46</td>\n",
       "      <td>female</td>\n",
       "      <td>28.900</td>\n",
       "      <td>2</td>\n",
       "      <td>0</td>\n",
       "      <td>southwest</td>\n",
       "    </tr>\n",
       "  </tbody>\n",
       "</table>\n",
       "</div>"
      ],
      "text/plain": [
       "      age     sex     bmi  children  smoker     region\n",
       "693    24    male  23.655         0       0  northwest\n",
       "1297   28  female  26.510         2       0  southeast\n",
       "634    51    male  39.700         1       0  southwest\n",
       "1022   47    male  36.080         1       1  southeast\n",
       "178    46  female  28.900         2       0  southwest"
      ]
     },
     "execution_count": 4,
     "metadata": {},
     "output_type": "execute_result"
    }
   ],
   "source": [
    "#Perform validation split\n",
    "#Setting a random state will make this reproducible in the future\n",
    "X_train, X_test, y_train, y_test = train_test_split(X, y, random_state=42)\n",
    "\n",
    "#Verify the split is correct\n",
    "X_train.head()  #Note the absence of the charges column from the X_train data"
   ]
  },
  {
   "cell_type": "code",
   "execution_count": 5,
   "id": "7d80a559",
   "metadata": {},
   "outputs": [],
   "source": [
    "##Create numeric pipeline\n",
    "#Define numeric columns\n",
    "num_cols = X_train.select_dtypes('number').columns\n",
    "\n",
    "#Instantiate transformers\n",
    "impute_mean = SimpleImputer(strategy='mean')\n",
    "scaler = StandardScaler()\n",
    "\n",
    "#Set numeric pipeline\n",
    "num_pipe = make_pipeline(impute_mean, scaler)\n",
    "\n",
    "#Create tuple for column transformer\n",
    "num_tuple = (\"Numeric\", num_pipe, num_cols)"
   ]
  },
  {
   "cell_type": "code",
   "execution_count": 6,
   "id": "34a78204",
   "metadata": {},
   "outputs": [],
   "source": [
    "##Create categorical pipeline\n",
    "#Define categorical columns\n",
    "cat_cols = X_train.select_dtypes('object').columns\n",
    "\n",
    "#Instantiate transformers\n",
    "impute_missing = SimpleImputer(strategy='constant', fill_value='Missing')\n",
    "cat_encode = OneHotEncoder(sparse_output=False, handle_unknown='ignore')\n",
    "\n",
    "#Set categorical pipeline\n",
    "cat_pipe = make_pipeline(impute_missing, cat_encode)\n",
    "\n",
    "#Create tuple for column transformer\n",
    "cat_tuple = (\"Categorical\", cat_pipe, cat_cols)"
   ]
  },
  {
   "cell_type": "code",
   "execution_count": 7,
   "id": "73f79b53",
   "metadata": {},
   "outputs": [],
   "source": [
    "#Finalize preprocessing object\n",
    "preprocessor = ColumnTransformer([num_tuple, cat_tuple], verbose_feature_names_out=False)"
   ]
  },
  {
   "cell_type": "markdown",
   "id": "cc2eb9bb",
   "metadata": {},
   "source": [
    "## Model 1: Linear Regression\n",
    "\n",
    "- Now that the data has been preprocessed, we will fit our first model, Linear Regression.\n",
    "- Linear Regression is a simple and easily evaluated model that aims to reduce the total squared errors produced from predictions. The result is a straight line that could be described as similar to a line of best fit for the data. While this model is easy to evaluate and understand, it is usually not the most accurate of models that can be used."
   ]
  },
  {
   "cell_type": "code",
   "execution_count": null,
   "id": "335a6990",
   "metadata": {},
   "outputs": [],
   "source": []
  }
 ],
 "metadata": {
  "kernelspec": {
   "display_name": "Python (dojo-env)",
   "language": "python",
   "name": "dojo-env"
  },
  "language_info": {
   "codemirror_mode": {
    "name": "ipython",
    "version": 3
   },
   "file_extension": ".py",
   "mimetype": "text/x-python",
   "name": "python",
   "nbconvert_exporter": "python",
   "pygments_lexer": "ipython3",
   "version": "3.9.15"
  },
  "toc": {
   "base_numbering": 1,
   "nav_menu": {},
   "number_sections": false,
   "sideBar": true,
   "skip_h1_title": false,
   "title_cell": "Table of Contents",
   "title_sidebar": "Contents",
   "toc_cell": false,
   "toc_position": {},
   "toc_section_display": true,
   "toc_window_display": false
  }
 },
 "nbformat": 4,
 "nbformat_minor": 5
}
